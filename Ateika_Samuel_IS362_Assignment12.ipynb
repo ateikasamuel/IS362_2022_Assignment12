{
 "cells": [
  {
   "cell_type": "code",
   "execution_count": 76,
   "id": "d18c4a7b",
   "metadata": {},
   "outputs": [
    {
     "data": {
      "text/html": [
       "<div>\n",
       "<style scoped>\n",
       "    .dataframe tbody tr th:only-of-type {\n",
       "        vertical-align: middle;\n",
       "    }\n",
       "\n",
       "    .dataframe tbody tr th {\n",
       "        vertical-align: top;\n",
       "    }\n",
       "\n",
       "    .dataframe thead th {\n",
       "        text-align: right;\n",
       "    }\n",
       "</style>\n",
       "<table border=\"1\" class=\"dataframe\">\n",
       "  <thead>\n",
       "    <tr style=\"text-align: right;\">\n",
       "      <th></th>\n",
       "      <th>0</th>\n",
       "      <th>1</th>\n",
       "      <th>2</th>\n",
       "      <th>3</th>\n",
       "      <th>4</th>\n",
       "      <th>5</th>\n",
       "      <th>6</th>\n",
       "      <th>7</th>\n",
       "      <th>8</th>\n",
       "      <th>9</th>\n",
       "      <th>...</th>\n",
       "      <th>13</th>\n",
       "      <th>14</th>\n",
       "      <th>15</th>\n",
       "      <th>16</th>\n",
       "      <th>17</th>\n",
       "      <th>18</th>\n",
       "      <th>19</th>\n",
       "      <th>20</th>\n",
       "      <th>21</th>\n",
       "      <th>22</th>\n",
       "    </tr>\n",
       "  </thead>\n",
       "  <tbody>\n",
       "    <tr>\n",
       "      <th>0</th>\n",
       "      <td>p</td>\n",
       "      <td>x</td>\n",
       "      <td>s</td>\n",
       "      <td>n</td>\n",
       "      <td>t</td>\n",
       "      <td>p</td>\n",
       "      <td>f</td>\n",
       "      <td>c</td>\n",
       "      <td>n</td>\n",
       "      <td>k</td>\n",
       "      <td>...</td>\n",
       "      <td>s</td>\n",
       "      <td>w</td>\n",
       "      <td>w</td>\n",
       "      <td>p</td>\n",
       "      <td>w</td>\n",
       "      <td>o</td>\n",
       "      <td>p</td>\n",
       "      <td>k</td>\n",
       "      <td>s</td>\n",
       "      <td>u</td>\n",
       "    </tr>\n",
       "    <tr>\n",
       "      <th>1</th>\n",
       "      <td>e</td>\n",
       "      <td>x</td>\n",
       "      <td>s</td>\n",
       "      <td>y</td>\n",
       "      <td>t</td>\n",
       "      <td>a</td>\n",
       "      <td>f</td>\n",
       "      <td>c</td>\n",
       "      <td>b</td>\n",
       "      <td>k</td>\n",
       "      <td>...</td>\n",
       "      <td>s</td>\n",
       "      <td>w</td>\n",
       "      <td>w</td>\n",
       "      <td>p</td>\n",
       "      <td>w</td>\n",
       "      <td>o</td>\n",
       "      <td>p</td>\n",
       "      <td>n</td>\n",
       "      <td>n</td>\n",
       "      <td>g</td>\n",
       "    </tr>\n",
       "    <tr>\n",
       "      <th>2</th>\n",
       "      <td>e</td>\n",
       "      <td>b</td>\n",
       "      <td>s</td>\n",
       "      <td>w</td>\n",
       "      <td>t</td>\n",
       "      <td>l</td>\n",
       "      <td>f</td>\n",
       "      <td>c</td>\n",
       "      <td>b</td>\n",
       "      <td>n</td>\n",
       "      <td>...</td>\n",
       "      <td>s</td>\n",
       "      <td>w</td>\n",
       "      <td>w</td>\n",
       "      <td>p</td>\n",
       "      <td>w</td>\n",
       "      <td>o</td>\n",
       "      <td>p</td>\n",
       "      <td>n</td>\n",
       "      <td>n</td>\n",
       "      <td>m</td>\n",
       "    </tr>\n",
       "    <tr>\n",
       "      <th>3</th>\n",
       "      <td>p</td>\n",
       "      <td>x</td>\n",
       "      <td>y</td>\n",
       "      <td>w</td>\n",
       "      <td>t</td>\n",
       "      <td>p</td>\n",
       "      <td>f</td>\n",
       "      <td>c</td>\n",
       "      <td>n</td>\n",
       "      <td>n</td>\n",
       "      <td>...</td>\n",
       "      <td>s</td>\n",
       "      <td>w</td>\n",
       "      <td>w</td>\n",
       "      <td>p</td>\n",
       "      <td>w</td>\n",
       "      <td>o</td>\n",
       "      <td>p</td>\n",
       "      <td>k</td>\n",
       "      <td>s</td>\n",
       "      <td>u</td>\n",
       "    </tr>\n",
       "    <tr>\n",
       "      <th>4</th>\n",
       "      <td>e</td>\n",
       "      <td>x</td>\n",
       "      <td>s</td>\n",
       "      <td>g</td>\n",
       "      <td>f</td>\n",
       "      <td>n</td>\n",
       "      <td>f</td>\n",
       "      <td>w</td>\n",
       "      <td>b</td>\n",
       "      <td>k</td>\n",
       "      <td>...</td>\n",
       "      <td>s</td>\n",
       "      <td>w</td>\n",
       "      <td>w</td>\n",
       "      <td>p</td>\n",
       "      <td>w</td>\n",
       "      <td>o</td>\n",
       "      <td>e</td>\n",
       "      <td>n</td>\n",
       "      <td>a</td>\n",
       "      <td>g</td>\n",
       "    </tr>\n",
       "  </tbody>\n",
       "</table>\n",
       "<p>5 rows × 23 columns</p>\n",
       "</div>"
      ],
      "text/plain": [
       "  0  1  2  3  4  5  6  7  8  9   ... 13 14 15 16 17 18 19 20 21 22\n",
       "0  p  x  s  n  t  p  f  c  n  k  ...  s  w  w  p  w  o  p  k  s  u\n",
       "1  e  x  s  y  t  a  f  c  b  k  ...  s  w  w  p  w  o  p  n  n  g\n",
       "2  e  b  s  w  t  l  f  c  b  n  ...  s  w  w  p  w  o  p  n  n  m\n",
       "3  p  x  y  w  t  p  f  c  n  n  ...  s  w  w  p  w  o  p  k  s  u\n",
       "4  e  x  s  g  f  n  f  w  b  k  ...  s  w  w  p  w  o  e  n  a  g\n",
       "\n",
       "[5 rows x 23 columns]"
      ]
     },
     "execution_count": 76,
     "metadata": {},
     "output_type": "execute_result"
    }
   ],
   "source": [
    "# Import the Pandas, numpy, matplotlib, and Seaborn library\n",
    "import pandas as pd\n",
    "import numpy as np\n",
    "import seaborn as sns\n",
    "from pandas import DataFrame, Series\n",
    "\n",
    "# Add items for matplotlib\n",
    "%matplotlib inline\n",
    "import matplotlib.pyplot as plt\n",
    "\n",
    "# Read the Mushroom Dataset file into a Pandas DataFrame\n",
    "mushroom_data = pd.read_table(\"https://archive.ics.uci.edu/ml/machine-learning-databases/mushroom/agaricus-lepiota.data\", sep= \",\", header = None)\n",
    "\n",
    "# Display the DataFrame\n",
    "mushroom_data.head()"
   ]
  },
  {
   "cell_type": "code",
   "execution_count": 77,
   "id": "819bb2d1",
   "metadata": {},
   "outputs": [
    {
     "data": {
      "text/html": [
       "<div>\n",
       "<style scoped>\n",
       "    .dataframe tbody tr th:only-of-type {\n",
       "        vertical-align: middle;\n",
       "    }\n",
       "\n",
       "    .dataframe tbody tr th {\n",
       "        vertical-align: top;\n",
       "    }\n",
       "\n",
       "    .dataframe thead th {\n",
       "        text-align: right;\n",
       "    }\n",
       "</style>\n",
       "<table border=\"1\" class=\"dataframe\">\n",
       "  <thead>\n",
       "    <tr style=\"text-align: right;\">\n",
       "      <th></th>\n",
       "      <th>0</th>\n",
       "      <th>4</th>\n",
       "      <th>5</th>\n",
       "      <th>21</th>\n",
       "      <th>22</th>\n",
       "    </tr>\n",
       "  </thead>\n",
       "  <tbody>\n",
       "    <tr>\n",
       "      <th>0</th>\n",
       "      <td>p</td>\n",
       "      <td>t</td>\n",
       "      <td>p</td>\n",
       "      <td>s</td>\n",
       "      <td>u</td>\n",
       "    </tr>\n",
       "    <tr>\n",
       "      <th>1</th>\n",
       "      <td>e</td>\n",
       "      <td>t</td>\n",
       "      <td>a</td>\n",
       "      <td>n</td>\n",
       "      <td>g</td>\n",
       "    </tr>\n",
       "    <tr>\n",
       "      <th>2</th>\n",
       "      <td>e</td>\n",
       "      <td>t</td>\n",
       "      <td>l</td>\n",
       "      <td>n</td>\n",
       "      <td>m</td>\n",
       "    </tr>\n",
       "    <tr>\n",
       "      <th>3</th>\n",
       "      <td>p</td>\n",
       "      <td>t</td>\n",
       "      <td>p</td>\n",
       "      <td>s</td>\n",
       "      <td>u</td>\n",
       "    </tr>\n",
       "    <tr>\n",
       "      <th>4</th>\n",
       "      <td>e</td>\n",
       "      <td>f</td>\n",
       "      <td>n</td>\n",
       "      <td>a</td>\n",
       "      <td>g</td>\n",
       "    </tr>\n",
       "  </tbody>\n",
       "</table>\n",
       "</div>"
      ],
      "text/plain": [
       "  0  4  5  21 22\n",
       "0  p  t  p  s  u\n",
       "1  e  t  a  n  g\n",
       "2  e  t  l  n  m\n",
       "3  p  t  p  s  u\n",
       "4  e  f  n  a  g"
      ]
     },
     "execution_count": 77,
     "metadata": {},
     "output_type": "execute_result"
    }
   ],
   "source": [
    "# Create a new DataFrame with specific columns from the old DataFrame\n",
    "mushrooms = mushroom_data.iloc[: , [0, 4, 5, 21, 22]].copy()\n",
    "\n",
    "#Display the DataFrame\n",
    "mushrooms.head()"
   ]
  },
  {
   "cell_type": "code",
   "execution_count": 79,
   "id": "e3d8bdcd",
   "metadata": {},
   "outputs": [
    {
     "data": {
      "text/html": [
       "<div>\n",
       "<style scoped>\n",
       "    .dataframe tbody tr th:only-of-type {\n",
       "        vertical-align: middle;\n",
       "    }\n",
       "\n",
       "    .dataframe tbody tr th {\n",
       "        vertical-align: top;\n",
       "    }\n",
       "\n",
       "    .dataframe thead th {\n",
       "        text-align: right;\n",
       "    }\n",
       "</style>\n",
       "<table border=\"1\" class=\"dataframe\">\n",
       "  <thead>\n",
       "    <tr style=\"text-align: right;\">\n",
       "      <th></th>\n",
       "      <th>Mushroom_Class</th>\n",
       "      <th>Mushroom_Bruises</th>\n",
       "      <th>Mushroom_Odor</th>\n",
       "      <th>Mushroom_Population</th>\n",
       "      <th>Mushroom_Habitat</th>\n",
       "    </tr>\n",
       "  </thead>\n",
       "  <tbody>\n",
       "    <tr>\n",
       "      <th>0</th>\n",
       "      <td>p</td>\n",
       "      <td>t</td>\n",
       "      <td>p</td>\n",
       "      <td>s</td>\n",
       "      <td>u</td>\n",
       "    </tr>\n",
       "    <tr>\n",
       "      <th>1</th>\n",
       "      <td>e</td>\n",
       "      <td>t</td>\n",
       "      <td>a</td>\n",
       "      <td>n</td>\n",
       "      <td>g</td>\n",
       "    </tr>\n",
       "    <tr>\n",
       "      <th>2</th>\n",
       "      <td>e</td>\n",
       "      <td>t</td>\n",
       "      <td>l</td>\n",
       "      <td>n</td>\n",
       "      <td>m</td>\n",
       "    </tr>\n",
       "    <tr>\n",
       "      <th>3</th>\n",
       "      <td>p</td>\n",
       "      <td>t</td>\n",
       "      <td>p</td>\n",
       "      <td>s</td>\n",
       "      <td>u</td>\n",
       "    </tr>\n",
       "    <tr>\n",
       "      <th>4</th>\n",
       "      <td>e</td>\n",
       "      <td>f</td>\n",
       "      <td>n</td>\n",
       "      <td>a</td>\n",
       "      <td>g</td>\n",
       "    </tr>\n",
       "  </tbody>\n",
       "</table>\n",
       "</div>"
      ],
      "text/plain": [
       "  Mushroom_Class Mushroom_Bruises Mushroom_Odor Mushroom_Population  \\\n",
       "0              p                t             p                   s   \n",
       "1              e                t             a                   n   \n",
       "2              e                t             l                   n   \n",
       "3              p                t             p                   s   \n",
       "4              e                f             n                   a   \n",
       "\n",
       "  Mushroom_Habitat  \n",
       "0                u  \n",
       "1                g  \n",
       "2                m  \n",
       "3                u  \n",
       "4                g  "
      ]
     },
     "execution_count": 79,
     "metadata": {},
     "output_type": "execute_result"
    }
   ],
   "source": [
    "# Rename all columns in the mushroom_fin Dataset\n",
    "mushrooms.columns = ['Mushroom_Class', 'Mushroom_Bruises', 'Mushroom_Odor', 'Mushroom_Population','Mushroom_Habitat']\n",
    "\n",
    "# Display the DataFrame\n",
    "mushrooms.head()"
   ]
  },
  {
   "cell_type": "code",
   "execution_count": 80,
   "id": "49678a0d",
   "metadata": {},
   "outputs": [
    {
     "data": {
      "text/html": [
       "<div>\n",
       "<style scoped>\n",
       "    .dataframe tbody tr th:only-of-type {\n",
       "        vertical-align: middle;\n",
       "    }\n",
       "\n",
       "    .dataframe tbody tr th {\n",
       "        vertical-align: top;\n",
       "    }\n",
       "\n",
       "    .dataframe thead th {\n",
       "        text-align: right;\n",
       "    }\n",
       "</style>\n",
       "<table border=\"1\" class=\"dataframe\">\n",
       "  <thead>\n",
       "    <tr style=\"text-align: right;\">\n",
       "      <th></th>\n",
       "      <th>Mushroom_Class</th>\n",
       "      <th>Mushroom_Bruises</th>\n",
       "      <th>Mushroom_Odor</th>\n",
       "      <th>Mushroom_Population</th>\n",
       "      <th>Mushroom_Habitat</th>\n",
       "    </tr>\n",
       "  </thead>\n",
       "  <tbody>\n",
       "    <tr>\n",
       "      <th>0</th>\n",
       "      <td>1</td>\n",
       "      <td>2</td>\n",
       "      <td>80</td>\n",
       "      <td>12</td>\n",
       "      <td>600</td>\n",
       "    </tr>\n",
       "    <tr>\n",
       "      <th>1</th>\n",
       "      <td>0</td>\n",
       "      <td>2</td>\n",
       "      <td>10</td>\n",
       "      <td>9</td>\n",
       "      <td>200</td>\n",
       "    </tr>\n",
       "    <tr>\n",
       "      <th>2</th>\n",
       "      <td>0</td>\n",
       "      <td>2</td>\n",
       "      <td>20</td>\n",
       "      <td>9</td>\n",
       "      <td>400</td>\n",
       "    </tr>\n",
       "    <tr>\n",
       "      <th>3</th>\n",
       "      <td>1</td>\n",
       "      <td>2</td>\n",
       "      <td>80</td>\n",
       "      <td>12</td>\n",
       "      <td>600</td>\n",
       "    </tr>\n",
       "    <tr>\n",
       "      <th>4</th>\n",
       "      <td>0</td>\n",
       "      <td>4</td>\n",
       "      <td>70</td>\n",
       "      <td>3</td>\n",
       "      <td>200</td>\n",
       "    </tr>\n",
       "  </tbody>\n",
       "</table>\n",
       "</div>"
      ],
      "text/plain": [
       "  Mushroom_Class Mushroom_Bruises Mushroom_Odor Mushroom_Population  \\\n",
       "0              1                2            80                  12   \n",
       "1              0                2            10                   9   \n",
       "2              0                2            20                   9   \n",
       "3              1                2            80                  12   \n",
       "4              0                4            70                   3   \n",
       "\n",
       "  Mushroom_Habitat  \n",
       "0              600  \n",
       "1              200  \n",
       "2              400  \n",
       "3              600  \n",
       "4              200  "
      ]
     },
     "execution_count": 80,
     "metadata": {},
     "output_type": "execute_result"
    }
   ],
   "source": [
    "# Replace the old values to numerical values:\n",
    "# Mushroom_Class (old): e = \"edible\", p = \"poisonous\" \n",
    "# Mushroom_Class (new): e = \"0\", p = \"1\"\n",
    "\n",
    "# Mushroom_Bruises (old): t = \"bruises\", f = \"no-bruises\"\n",
    "# Mushroom_Bruises (new): t = \"2\", f = \"4\"\n",
    "\n",
    "# Mushroom_Odor (old): a = 'almond', l = 'anise', c = 'creosote', y = 'fishy', f = 'foul', m = 'musty', n = 'none', p = 'pungent', s = 'spicy'\n",
    "# Mushroom_Odor (new): a = '10', l = '20', c = '30', y = '40', f = '50', m = '60', n = '70', p = '80', s = '90'\n",
    "\n",
    "# Mushroom_Population (old): a = 'abundant', c = 'clustered', n = 'numerous', s = 'scattered', v = 'several', y = 'solitary'\n",
    "# Mushroom_Population (new): a = '3', c = '6', n = '9', s = '12', v = '15', y = '18'\n",
    "\n",
    "# Mushroom_Habitat (old): g = 'grasses', l = 'leaves', m = 'meadows', p = 'paths', u = 'urban', w = 'waste', d = 'woods'\n",
    "# Mushroom_Habitat (new): g = '200', l = '300', m = '400', p = '500', u = '600', w = '700', d = '800'\n",
    "\n",
    "# Replace the values for Mushroom_Class\n",
    "mushrooms['Mushroom_Class'] = mushrooms['Mushroom_Class'].replace(['e','p'],['0','1'])\n",
    "\n",
    "#Replace the values for Mushroom_Bruises\n",
    "mushrooms['Mushroom_Bruises'] = mushrooms['Mushroom_Bruises'].replace(['t','f'],['2','4'])\n",
    "\n",
    "#Replace the values for Mushroom_Ordor\n",
    "mushrooms['Mushroom_Odor'] = mushrooms['Mushroom_Odor'].replace(['a','l','c','y','f','m','n','p','s'],['10','20','30','40','50','60','70','80','90'])\n",
    "\n",
    "#Replace the values for Mushroom_Population\n",
    "mushrooms['Mushroom_Population'] = mushrooms['Mushroom_Population'].replace(['a','c','n','s','v','y'],['3','6','9','12','15','18'])\n",
    "\n",
    "#Replace the values for Mushroom_Habitat\n",
    "mushrooms['Mushroom_Habitat'] = mushrooms['Mushroom_Habitat'].replace(['g','l','m','p','u','w','d'],['200','300','400','500','600','700','800'])\n",
    "\n",
    "# Display the DataFrame\n",
    "mushrooms.head()"
   ]
  },
  {
   "cell_type": "code",
   "execution_count": 81,
   "id": "cb03d7e4",
   "metadata": {},
   "outputs": [
    {
     "data": {
      "text/plain": [
       "0    4208\n",
       "1    3916\n",
       "Name: Mushroom_Class, dtype: int64"
      ]
     },
     "execution_count": 81,
     "metadata": {},
     "output_type": "execute_result"
    }
   ],
   "source": [
    "# Perform exploratory data analysis: show the distribution of data for each of the columns in the DataFrame.\n",
    "# Mushroom_Class, Mushroom_Bruises, Mushroom_Odor, Mushroom_Population, Mushroom_Habitat\n",
    "\n",
    "# 1. Calculate the number of mushrooms that are poisonous and edible in the DataFrame\n",
    "mushrooms['Mushroom_Class'].value_counts()"
   ]
  },
  {
   "cell_type": "code",
   "execution_count": 82,
   "id": "49e55326",
   "metadata": {},
   "outputs": [
    {
     "data": {
      "text/plain": [
       "<AxesSubplot:xlabel='Mushroom_Class', ylabel='Count'>"
      ]
     },
     "execution_count": 82,
     "metadata": {},
     "output_type": "execute_result"
    },
    {
     "data": {
      "image/png": "[encoded data removed]",
      "text/plain": [
       "<Figure size 432x288 with 1 Axes>"
      ]
     },
     "metadata": {
      "needs_background": "light"
     },
     "output_type": "display_data"
    }
   ],
   "source": [
    "# Plot a histogram to show the comparison between the two classes of Mushrooms (poisonous vs edible)\n",
    "sns.histplot(data = mushrooms\n",
    "            ,x = 'Mushroom_Class'\n",
    "            ,color=\"teal\"\n",
    "            ,kde = True\n",
    "            )"
   ]
  },
  {
   "cell_type": "code",
   "execution_count": 83,
   "id": "57258e5a",
   "metadata": {},
   "outputs": [
    {
     "data": {
      "text/plain": [
       "4    4748\n",
       "2    3376\n",
       "Name: Mushroom_Bruises, dtype: int64"
      ]
     },
     "execution_count": 83,
     "metadata": {},
     "output_type": "execute_result"
    }
   ],
   "source": [
    "#  2. Calculate the number of mushrooms that have bruises and that don't in the DataFrame\n",
    "mushrooms['Mushroom_Bruises'].value_counts()"
   ]
  },
  {
   "cell_type": "code",
   "execution_count": 84,
   "id": "53794edf",
   "metadata": {},
   "outputs": [
    {
     "data": {
      "text/plain": [
       "<AxesSubplot:xlabel='Mushroom_Bruises', ylabel='Count'>"
      ]
     },
     "execution_count": 84,
     "metadata": {},
     "output_type": "execute_result"
    },
    {
     "data": {
      "image/png": "[encoded data removed]",
      "text/plain": [
       "<Figure size 432x288 with 1 Axes>"
      ]
     },
     "metadata": {
      "needs_background": "light"
     },
     "output_type": "display_data"
    }
   ],
   "source": [
    "# Plot a histogram to show the mushrooms that have bruises and that don't in the DataFrame\n",
    "sns.histplot(data = mushrooms\n",
    "            ,x = 'Mushroom_Bruises'\n",
    "            ,color=\"pink\"\n",
    "            ,kde = True\n",
    "            )"
   ]
  },
  {
   "cell_type": "code",
   "execution_count": 85,
   "id": "012cff0b",
   "metadata": {},
   "outputs": [
    {
     "data": {
      "text/plain": [
       "70    3528\n",
       "50    2160\n",
       "40     576\n",
       "90     576\n",
       "10     400\n",
       "20     400\n",
       "80     256\n",
       "30     192\n",
       "60      36\n",
       "Name: Mushroom_Odor, dtype: int64"
      ]
     },
     "execution_count": 85,
     "metadata": {},
     "output_type": "execute_result"
    }
   ],
   "source": [
    "#  3. Calculate the number of mushrooms that have various odors in the DataFrame\n",
    "mushrooms['Mushroom_Odor'].value_counts()"
   ]
  },
  {
   "cell_type": "code",
   "execution_count": 86,
   "id": "a1bcacaa",
   "metadata": {},
   "outputs": [
    {
     "data": {
      "text/plain": [
       "<AxesSubplot:xlabel='Mushroom_Odor', ylabel='Count'>"
      ]
     },
     "execution_count": 86,
     "metadata": {},
     "output_type": "execute_result"
    },
    {
     "data": {
      "image/png": "[encoded data removed]",
      "text/plain": [
       "<Figure size 432x288 with 1 Axes>"
      ]
     },
     "metadata": {
      "needs_background": "light"
     },
     "output_type": "display_data"
    }
   ],
   "source": [
    "# Plot a histogram to show the number of mushrooms that have various odors in the DataFrame\n",
    "sns.histplot(data = mushrooms\n",
    "            ,x = 'Mushroom_Odor'\n",
    "            ,color=\"orange\"\n",
    "            ,kde = True\n",
    "            )"
   ]
  },
  {
   "cell_type": "code",
   "execution_count": 87,
   "id": "f7eba43f",
   "metadata": {},
   "outputs": [
    {
     "data": {
      "text/plain": [
       "15    4040\n",
       "18    1712\n",
       "12    1248\n",
       "9      400\n",
       "3      384\n",
       "6      340\n",
       "Name: Mushroom_Population, dtype: int64"
      ]
     },
     "execution_count": 87,
     "metadata": {},
     "output_type": "execute_result"
    }
   ],
   "source": [
    "#  4. Calculate the abundance of mushrooms in the DataFrame\n",
    "mushrooms['Mushroom_Population'].value_counts()"
   ]
  },
  {
   "cell_type": "code",
   "execution_count": 88,
   "id": "60973e09",
   "metadata": {},
   "outputs": [
    {
     "data": {
      "text/plain": [
       "<AxesSubplot:xlabel='Mushroom_Population', ylabel='Count'>"
      ]
     },
     "execution_count": 88,
     "metadata": {},
     "output_type": "execute_result"
    },
    {
     "data": {
      "image/png": "[encoded data removed]",
      "text/plain": [
       "<Figure size 432x288 with 1 Axes>"
      ]
     },
     "metadata": {
      "needs_background": "light"
     },
     "output_type": "display_data"
    }
   ],
   "source": [
    "# Plot a histogram to show the abundance of mushrooms\n",
    "sns.histplot(data = mushrooms\n",
    "            ,x = 'Mushroom_Population'\n",
    "            ,color=\"Green\"\n",
    "            ,kde = True\n",
    "            )"
   ]
  },
  {
   "cell_type": "code",
   "execution_count": 89,
   "id": "9e3dca4c",
   "metadata": {},
   "outputs": [
    {
     "data": {
      "text/plain": [
       "800    3148\n",
       "200    2148\n",
       "500    1144\n",
       "300     832\n",
       "600     368\n",
       "400     292\n",
       "700     192\n",
       "Name: Mushroom_Habitat, dtype: int64"
      ]
     },
     "execution_count": 89,
     "metadata": {},
     "output_type": "execute_result"
    }
   ],
   "source": [
    "#  4. Calculate the various habitats of mushrooms in the DataFrame\n",
    "mushrooms['Mushroom_Habitat'].value_counts()"
   ]
  },
  {
   "cell_type": "code",
   "execution_count": 90,
   "id": "66f951af",
   "metadata": {},
   "outputs": [
    {
     "data": {
      "text/plain": [
       "<AxesSubplot:xlabel='Mushroom_Habitat', ylabel='Count'>"
      ]
     },
     "execution_count": 90,
     "metadata": {},
     "output_type": "execute_result"
    },
    {
     "data": {
      "image/png": "[encoded data removed]",
      "text/plain": [
       "<Figure size 432x288 with 1 Axes>"
      ]
     },
     "metadata": {
      "needs_background": "light"
     },
     "output_type": "display_data"
    }
   ],
   "source": [
    "# Plot a histogram to show the abundance of mushrooms\n",
    "sns.histplot(data = mushrooms\n",
    "            ,x = 'Mushroom_Habitat'\n",
    "            ,color=\"Purple\"\n",
    "            ,kde = True\n",
    "            )"
   ]
  },
  {
   "cell_type": "code",
   "execution_count": 119,
   "id": "d7f4e441",
   "metadata": {},
   "outputs": [
    {
     "data": {
      "text/plain": [
       "<seaborn.axisgrid.FacetGrid at 0x149d8d8ed00>"
      ]
     },
     "execution_count": 119,
     "metadata": {},
     "output_type": "execute_result"
    },
    {
     "data": {
      "image/png": "[encoded data removed]",
      "text/plain": [
       "<Figure size 432x360 with 1 Axes>"
      ]
     },
     "metadata": {
      "needs_background": "light"
     },
     "output_type": "display_data"
    }
   ],
   "source": [
    "# Plot a Scatterplot of a comparison between Mushroom Class & Mushroom Odor\n",
    "sns.relplot(data=mushrooms, x='Mushroom_Class', y='Mushroom_Odor', kind='scatter', \n",
    "            aspect=1.2, color='orange')"
   ]
  },
  {
   "cell_type": "code",
   "execution_count": 120,
   "id": "d76c414b",
   "metadata": {},
   "outputs": [],
   "source": [
    "# The plot shows that most poisionous mushrooms have an odor. \n",
    "# For example, if a mushroom has a strong odor, e.g. spicy (90) it is more likely to be poisionous. \n",
    "# If it has more of a subtle ordor, e.g., almond (10), it is more likely to be edible. \n",
    "# Some mushrooms have no odor and can be either spicy or edible(70)"
   ]
  },
  {
   "cell_type": "code",
   "execution_count": 121,
   "id": "b88b3348",
   "metadata": {},
   "outputs": [
    {
     "data": {
      "text/plain": [
       "<seaborn.axisgrid.FacetGrid at 0x149daa9c310>"
      ]
     },
     "execution_count": 121,
     "metadata": {},
     "output_type": "execute_result"
    },
    {
     "data": {
      "image/png": "[encoded data removed]",
      "text/plain": [
       "<Figure size 432x360 with 1 Axes>"
      ]
     },
     "metadata": {
      "needs_background": "light"
     },
     "output_type": "display_data"
    }
   ],
   "source": [
    "# Plot a Scatterplot of a comparison between Mushroom Class & Mushroom Bruises\n",
    "sns.relplot(data=mushrooms, x='Mushroom_Class', y='Mushroom_Bruises', kind='scatter', \n",
    "            aspect=1.2, color='pink')"
   ]
  },
  {
   "cell_type": "code",
   "execution_count": 122,
   "id": "62d34288",
   "metadata": {},
   "outputs": [],
   "source": [
    "# The plot shows that there is almost equal correlation between posisonus vs edible & mushrooms with bruises and those without. "
   ]
  },
  {
   "cell_type": "code",
   "execution_count": 123,
   "id": "bab70c6a",
   "metadata": {},
   "outputs": [
    {
     "data": {
      "text/plain": [
       "<seaborn.axisgrid.FacetGrid at 0x149d91f60d0>"
      ]
     },
     "execution_count": 123,
     "metadata": {},
     "output_type": "execute_result"
    },
    {
     "data": {
      "image/png": "[encoded data removed]",
      "text/plain": [
       "<Figure size 432x360 with 1 Axes>"
      ]
     },
     "metadata": {
      "needs_background": "light"
     },
     "output_type": "display_data"
    }
   ],
   "source": [
    "# Plot a Scatterplot of a comparison between Mushroom Class & Mushroom Bruises\n",
    "sns.relplot(data=mushrooms, x='Mushroom_Class', y='Mushroom_Population', kind='scatter', \n",
    "            aspect=1.2, color='pink')"
   ]
  },
  {
   "cell_type": "code",
   "execution_count": 124,
   "id": "97569acc",
   "metadata": {},
   "outputs": [],
   "source": [
    "# The plot shows that the population of edible mushroom is greater than the population of poisonous mushrooms.\n",
    "# For example, edible mushrooms are more abundant(3) and numerous(9) than poisonous mushrooms."
   ]
  },
  {
   "cell_type": "code",
   "execution_count": 125,
   "id": "a4b5bf68",
   "metadata": {},
   "outputs": [
    {
     "data": {
      "text/plain": [
       "<seaborn.axisgrid.FacetGrid at 0x149daabe340>"
      ]
     },
     "execution_count": 125,
     "metadata": {},
     "output_type": "execute_result"
    },
    {
     "data": {
      "image/png": "[encoded data removed]",
      "text/plain": [
       "<Figure size 432x360 with 1 Axes>"
      ]
     },
     "metadata": {
      "needs_background": "light"
     },
     "output_type": "display_data"
    }
   ],
   "source": [
    "# Plot a Scatterplot of a comparison between Mushroom Class & Mushroom Bruises\n",
    "sns.relplot(data=mushrooms, x='Mushroom_Class', y='Mushroom_Habitat', kind='scatter', \n",
    "            aspect=1.2, color='teal')"
   ]
  },
  {
   "cell_type": "code",
   "execution_count": 126,
   "id": "161b9b8c",
   "metadata": {},
   "outputs": [],
   "source": [
    "# The plot shows that the population of edible mushroom thrive in all habitats listed in the Dataset. \n",
    "# For example, edible mushrooms can be found in waste habitats(700) while poisonous mushrooms do not thrive there. "
   ]
  },
  {
   "cell_type": "code",
   "execution_count": null,
   "id": "3837ecba",
   "metadata": {},
   "outputs": [],
   "source": []
  }
 ],
 "metadata": {
  "kernelspec": {
   "display_name": "Python 3 (ipykernel)",
   "language": "python",
   "name": "python3"
  },
  "language_info": {
   "codemirror_mode": {
    "name": "ipython",
    "version": 3
   },
   "file_extension": ".py",
   "mimetype": "text/x-python",
   "name": "python",
   "nbconvert_exporter": "python",
   "pygments_lexer": "ipython3",
   "version": "3.9.7"
  }
 },
 "nbformat": 4,
 "nbformat_minor": 5
}
